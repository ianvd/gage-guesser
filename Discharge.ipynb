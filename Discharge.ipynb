{
 "cells": [
  {
   "cell_type": "markdown",
   "id": "90b7b623",
   "metadata": {},
   "source": [
    "Retrieve discharge data for study area"
   ]
  },
  {
   "cell_type": "code",
   "execution_count": null,
   "id": "6219a628",
   "metadata": {},
   "outputs": [],
   "source": []
  }
 ],
 "metadata": {
  "kernelspec": {
   "display_name": "Python 3 (ipykernel)",
   "language": "python",
   "name": "python3"
  },
  "language_info": {
   "codemirror_mode": {
    "name": "ipython",
    "version": 3
   },
   "file_extension": ".py",
   "mimetype": "text/x-python",
   "name": "python",
   "nbconvert_exporter": "python",
   "pygments_lexer": "ipython3",
   "version": "3.8.12"
  }
 },
 "nbformat": 4,
 "nbformat_minor": 5
}
