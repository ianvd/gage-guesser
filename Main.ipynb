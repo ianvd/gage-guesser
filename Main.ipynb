{
 "cells": [
  {
   "cell_type": "markdown",
   "id": "8cfeb7a4",
   "metadata": {},
   "source": [
    "Main notebook file"
   ]
  },
  {
   "cell_type": "code",
   "execution_count": 1,
   "id": "1c9b83fd",
   "metadata": {},
   "outputs": [
    {
     "name": "stdout",
     "output_type": "stream",
     "text": [
      "Requirement already satisfied: meteostat in c:\\users\\theoh\\anaconda3\\envs\\gage\\lib\\site-packages (1.6.1)\n",
      "Requirement already satisfied: pytz in c:\\users\\theoh\\anaconda3\\envs\\gage\\lib\\site-packages (from meteostat) (2021.3)\n",
      "Requirement already satisfied: numpy in c:\\users\\theoh\\anaconda3\\envs\\gage\\lib\\site-packages (from meteostat) (1.22.2)\n",
      "Requirement already satisfied: pandas>=1.1 in c:\\users\\theoh\\anaconda3\\envs\\gage\\lib\\site-packages (from meteostat) (1.4.1)\n",
      "Requirement already satisfied: python-dateutil>=2.8.1 in c:\\users\\theoh\\anaconda3\\envs\\gage\\lib\\site-packages (from pandas>=1.1->meteostat) (2.8.2)\n",
      "Requirement already satisfied: six>=1.5 in c:\\users\\theoh\\anaconda3\\envs\\gage\\lib\\site-packages (from python-dateutil>=2.8.1->pandas>=1.1->meteostat) (1.16.0)\n",
      "Note: you may need to restart the kernel to use updated packages.\n"
     ]
    }
   ],
   "source": [
    "pip install meteostat"
   ]
  },
  {
   "cell_type": "code",
   "execution_count": null,
   "id": "b8c9d5d9",
   "metadata": {},
   "outputs": [],
   "source": []
  }
 ],
 "metadata": {
  "kernelspec": {
   "display_name": "Python 3 (ipykernel)",
   "language": "python",
   "name": "python3"
  },
  "language_info": {
   "codemirror_mode": {
    "name": "ipython",
    "version": 3
   },
   "file_extension": ".py",
   "mimetype": "text/x-python",
   "name": "python",
   "nbconvert_exporter": "python",
   "pygments_lexer": "ipython3",
   "version": "3.8.12"
  }
 },
 "nbformat": 4,
 "nbformat_minor": 5
}
