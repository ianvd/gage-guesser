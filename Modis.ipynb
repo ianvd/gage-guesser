{
 "cells": [
  {
   "cell_type": "code",
   "execution_count": 9,
   "id": "10432df7",
   "metadata": {},
   "outputs": [],
   "source": [
    "import pandas as pd"
   ]
  },
  {
   "cell_type": "code",
   "execution_count": 16,
   "id": "1879b067",
   "metadata": {},
   "outputs": [],
   "source": [
    "snow = pd.read_csv('data/MODIS/snow_cover.csv').set_index('date')\n",
    "temp = pd.read_csv('data/MODIS/land_surface_temp_K.csv').set_index('date')"
   ]
  },
  {
   "cell_type": "code",
   "execution_count": 17,
   "id": "198f27d2",
   "metadata": {},
   "outputs": [
    {
     "data": {
      "text/html": [
       "<div>\n",
       "<style scoped>\n",
       "    .dataframe tbody tr th:only-of-type {\n",
       "        vertical-align: middle;\n",
       "    }\n",
       "\n",
       "    .dataframe tbody tr th {\n",
       "        vertical-align: top;\n",
       "    }\n",
       "\n",
       "    .dataframe thead th {\n",
       "        text-align: right;\n",
       "    }\n",
       "</style>\n",
       "<table border=\"1\" class=\"dataframe\">\n",
       "  <thead>\n",
       "    <tr style=\"text-align: right;\">\n",
       "      <th></th>\n",
       "      <th>LST_Day_1km</th>\n",
       "    </tr>\n",
       "    <tr>\n",
       "      <th>date</th>\n",
       "      <th></th>\n",
       "    </tr>\n",
       "  </thead>\n",
       "  <tbody>\n",
       "    <tr>\n",
       "      <th>2013_01_01</th>\n",
       "      <td>13637.58888</td>\n",
       "    </tr>\n",
       "    <tr>\n",
       "      <th>2013_01_02</th>\n",
       "      <td>13726.96287</td>\n",
       "    </tr>\n",
       "    <tr>\n",
       "      <th>2013_01_03</th>\n",
       "      <td>13740.39250</td>\n",
       "    </tr>\n",
       "    <tr>\n",
       "      <th>2013_01_04</th>\n",
       "      <td>13486.85150</td>\n",
       "    </tr>\n",
       "    <tr>\n",
       "      <th>2013_01_05</th>\n",
       "      <td>NaN</td>\n",
       "    </tr>\n",
       "  </tbody>\n",
       "</table>\n",
       "</div>"
      ],
      "text/plain": [
       "            LST_Day_1km\n",
       "date                   \n",
       "2013_01_01  13637.58888\n",
       "2013_01_02  13726.96287\n",
       "2013_01_03  13740.39250\n",
       "2013_01_04  13486.85150\n",
       "2013_01_05          NaN"
      ]
     },
     "execution_count": 17,
     "metadata": {},
     "output_type": "execute_result"
    }
   ],
   "source": [
    "temp.head()"
   ]
  },
  {
   "cell_type": "code",
   "execution_count": 18,
   "id": "2ba1ba26",
   "metadata": {},
   "outputs": [
    {
     "data": {
      "text/html": [
       "<div>\n",
       "<style scoped>\n",
       "    .dataframe tbody tr th:only-of-type {\n",
       "        vertical-align: middle;\n",
       "    }\n",
       "\n",
       "    .dataframe tbody tr th {\n",
       "        vertical-align: top;\n",
       "    }\n",
       "\n",
       "    .dataframe thead th {\n",
       "        text-align: right;\n",
       "    }\n",
       "</style>\n",
       "<table border=\"1\" class=\"dataframe\">\n",
       "  <thead>\n",
       "    <tr style=\"text-align: right;\">\n",
       "      <th></th>\n",
       "      <th>NDSI_Snow_Cover</th>\n",
       "    </tr>\n",
       "    <tr>\n",
       "      <th>date</th>\n",
       "      <th></th>\n",
       "    </tr>\n",
       "  </thead>\n",
       "  <tbody>\n",
       "    <tr>\n",
       "      <th>2013_01_01</th>\n",
       "      <td>56.669666</td>\n",
       "    </tr>\n",
       "    <tr>\n",
       "      <th>2013_01_02</th>\n",
       "      <td>52.070299</td>\n",
       "    </tr>\n",
       "    <tr>\n",
       "      <th>2013_01_03</th>\n",
       "      <td>51.463661</td>\n",
       "    </tr>\n",
       "    <tr>\n",
       "      <th>2013_01_04</th>\n",
       "      <td>65.101677</td>\n",
       "    </tr>\n",
       "    <tr>\n",
       "      <th>2013_01_05</th>\n",
       "      <td>NaN</td>\n",
       "    </tr>\n",
       "  </tbody>\n",
       "</table>\n",
       "</div>"
      ],
      "text/plain": [
       "            NDSI_Snow_Cover\n",
       "date                       \n",
       "2013_01_01        56.669666\n",
       "2013_01_02        52.070299\n",
       "2013_01_03        51.463661\n",
       "2013_01_04        65.101677\n",
       "2013_01_05              NaN"
      ]
     },
     "execution_count": 18,
     "metadata": {},
     "output_type": "execute_result"
    }
   ],
   "source": [
    "snow.head()"
   ]
  },
  {
   "cell_type": "code",
   "execution_count": null,
   "id": "90a08c93",
   "metadata": {},
   "outputs": [],
   "source": []
  }
 ],
 "metadata": {
  "kernelspec": {
   "display_name": "Python 3 (ipykernel)",
   "language": "python",
   "name": "python3"
  },
  "language_info": {
   "codemirror_mode": {
    "name": "ipython",
    "version": 3
   },
   "file_extension": ".py",
   "mimetype": "text/x-python",
   "name": "python",
   "nbconvert_exporter": "python",
   "pygments_lexer": "ipython3",
   "version": "3.8.12"
  }
 },
 "nbformat": 4,
 "nbformat_minor": 5
}
