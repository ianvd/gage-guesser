{
 "cells": [
  {
   "cell_type": "code",
   "execution_count": 1,
   "id": "4ea6126f",
   "metadata": {},
   "outputs": [],
   "source": [
    "import pandas as pd"
   ]
  },
  {
   "cell_type": "code",
   "execution_count": 2,
   "id": "cf5b26fc",
   "metadata": {},
   "outputs": [],
   "source": [
    "prec_hourly = pd.read_csv('data/MODIS/precipitation.csv')"
   ]
  },
  {
   "cell_type": "code",
   "execution_count": 3,
   "id": "b3595e87",
   "metadata": {},
   "outputs": [
    {
     "data": {
      "text/html": [
       "<div>\n",
       "<style scoped>\n",
       "    .dataframe tbody tr th:only-of-type {\n",
       "        vertical-align: middle;\n",
       "    }\n",
       "\n",
       "    .dataframe tbody tr th {\n",
       "        vertical-align: top;\n",
       "    }\n",
       "\n",
       "    .dataframe thead th {\n",
       "        text-align: right;\n",
       "    }\n",
       "</style>\n",
       "<table border=\"1\" class=\"dataframe\">\n",
       "  <thead>\n",
       "    <tr style=\"text-align: right;\">\n",
       "      <th></th>\n",
       "      <th>date</th>\n",
       "      <th>hourlyPrecipRate</th>\n",
       "    </tr>\n",
       "  </thead>\n",
       "  <tbody>\n",
       "    <tr>\n",
       "      <th>0</th>\n",
       "      <td>20140301_0000</td>\n",
       "      <td>0.314555</td>\n",
       "    </tr>\n",
       "    <tr>\n",
       "      <th>1</th>\n",
       "      <td>20140301_0100</td>\n",
       "      <td>0.215825</td>\n",
       "    </tr>\n",
       "    <tr>\n",
       "      <th>2</th>\n",
       "      <td>20140301_0200</td>\n",
       "      <td>0.001990</td>\n",
       "    </tr>\n",
       "    <tr>\n",
       "      <th>3</th>\n",
       "      <td>20140301_0300</td>\n",
       "      <td>0.001698</td>\n",
       "    </tr>\n",
       "    <tr>\n",
       "      <th>4</th>\n",
       "      <td>20140301_0400</td>\n",
       "      <td>0.000853</td>\n",
       "    </tr>\n",
       "  </tbody>\n",
       "</table>\n",
       "</div>"
      ],
      "text/plain": [
       "            date  hourlyPrecipRate\n",
       "0  20140301_0000          0.314555\n",
       "1  20140301_0100          0.215825\n",
       "2  20140301_0200          0.001990\n",
       "3  20140301_0300          0.001698\n",
       "4  20140301_0400          0.000853"
      ]
     },
     "execution_count": 3,
     "metadata": {},
     "output_type": "execute_result"
    }
   ],
   "source": [
    "prec_hourly.head()"
   ]
  },
  {
   "cell_type": "code",
   "execution_count": 4,
   "id": "51295455",
   "metadata": {},
   "outputs": [],
   "source": [
    "dates = prec_hourly['date'].to_list()"
   ]
  },
  {
   "cell_type": "markdown",
   "id": "3c3efb2a",
   "metadata": {},
   "source": [
    "Convert to date to datetime objects"
   ]
  },
  {
   "cell_type": "code",
   "execution_count": 5,
   "id": "508e9947",
   "metadata": {},
   "outputs": [],
   "source": [
    "new_dates = []\n",
    "for date in dates:\n",
    "    new_date = f'{date[0:4]}-{date[4:6]}-{date[6:8]} {date[9:11]}:00:00'\n",
    "    new_dates.append(new_date)\n",
    "prec_hourly['date'] = new_dates\n",
    "prec_hourly['date']= pd.to_datetime(prec_hourly['date'])\n",
    "prec_hourly = prec_hourly.set_index('date')"
   ]
  },
  {
   "cell_type": "code",
   "execution_count": 6,
   "id": "f389bfce",
   "metadata": {
    "scrolled": true
   },
   "outputs": [
    {
     "data": {
      "text/html": [
       "<div>\n",
       "<style scoped>\n",
       "    .dataframe tbody tr th:only-of-type {\n",
       "        vertical-align: middle;\n",
       "    }\n",
       "\n",
       "    .dataframe tbody tr th {\n",
       "        vertical-align: top;\n",
       "    }\n",
       "\n",
       "    .dataframe thead th {\n",
       "        text-align: right;\n",
       "    }\n",
       "</style>\n",
       "<table border=\"1\" class=\"dataframe\">\n",
       "  <thead>\n",
       "    <tr style=\"text-align: right;\">\n",
       "      <th></th>\n",
       "      <th>hourlyPrecipRate</th>\n",
       "    </tr>\n",
       "    <tr>\n",
       "      <th>date</th>\n",
       "      <th></th>\n",
       "    </tr>\n",
       "  </thead>\n",
       "  <tbody>\n",
       "    <tr>\n",
       "      <th>2014-03-01 00:00:00</th>\n",
       "      <td>0.314555</td>\n",
       "    </tr>\n",
       "    <tr>\n",
       "      <th>2014-03-01 01:00:00</th>\n",
       "      <td>0.215825</td>\n",
       "    </tr>\n",
       "    <tr>\n",
       "      <th>2014-03-01 02:00:00</th>\n",
       "      <td>0.001990</td>\n",
       "    </tr>\n",
       "    <tr>\n",
       "      <th>2014-03-01 03:00:00</th>\n",
       "      <td>0.001698</td>\n",
       "    </tr>\n",
       "    <tr>\n",
       "      <th>2014-03-01 04:00:00</th>\n",
       "      <td>0.000853</td>\n",
       "    </tr>\n",
       "    <tr>\n",
       "      <th>...</th>\n",
       "      <td>...</td>\n",
       "    </tr>\n",
       "    <tr>\n",
       "      <th>2017-12-31 19:00:00</th>\n",
       "      <td>0.000000</td>\n",
       "    </tr>\n",
       "    <tr>\n",
       "      <th>2017-12-31 20:00:00</th>\n",
       "      <td>0.000000</td>\n",
       "    </tr>\n",
       "    <tr>\n",
       "      <th>2017-12-31 21:00:00</th>\n",
       "      <td>0.000000</td>\n",
       "    </tr>\n",
       "    <tr>\n",
       "      <th>2017-12-31 22:00:00</th>\n",
       "      <td>0.026846</td>\n",
       "    </tr>\n",
       "    <tr>\n",
       "      <th>2017-12-31 23:00:00</th>\n",
       "      <td>0.000802</td>\n",
       "    </tr>\n",
       "  </tbody>\n",
       "</table>\n",
       "<p>33648 rows × 1 columns</p>\n",
       "</div>"
      ],
      "text/plain": [
       "                     hourlyPrecipRate\n",
       "date                                 \n",
       "2014-03-01 00:00:00          0.314555\n",
       "2014-03-01 01:00:00          0.215825\n",
       "2014-03-01 02:00:00          0.001990\n",
       "2014-03-01 03:00:00          0.001698\n",
       "2014-03-01 04:00:00          0.000853\n",
       "...                               ...\n",
       "2017-12-31 19:00:00          0.000000\n",
       "2017-12-31 20:00:00          0.000000\n",
       "2017-12-31 21:00:00          0.000000\n",
       "2017-12-31 22:00:00          0.026846\n",
       "2017-12-31 23:00:00          0.000802\n",
       "\n",
       "[33648 rows x 1 columns]"
      ]
     },
     "execution_count": 6,
     "metadata": {},
     "output_type": "execute_result"
    }
   ],
   "source": [
    "prec_hourly"
   ]
  },
  {
   "cell_type": "markdown",
   "id": "9223fc73",
   "metadata": {},
   "source": [
    "Resample to daily intervals"
   ]
  },
  {
   "cell_type": "code",
   "execution_count": 7,
   "id": "127699ab",
   "metadata": {},
   "outputs": [],
   "source": [
    "prec_daily = prec_hourly.resample('D').sum()"
   ]
  },
  {
   "cell_type": "code",
   "execution_count": 8,
   "id": "a6c2eedf",
   "metadata": {},
   "outputs": [
    {
     "data": {
      "text/html": [
       "<div>\n",
       "<style scoped>\n",
       "    .dataframe tbody tr th:only-of-type {\n",
       "        vertical-align: middle;\n",
       "    }\n",
       "\n",
       "    .dataframe tbody tr th {\n",
       "        vertical-align: top;\n",
       "    }\n",
       "\n",
       "    .dataframe thead th {\n",
       "        text-align: right;\n",
       "    }\n",
       "</style>\n",
       "<table border=\"1\" class=\"dataframe\">\n",
       "  <thead>\n",
       "    <tr style=\"text-align: right;\">\n",
       "      <th></th>\n",
       "      <th>hourlyPrecipRate</th>\n",
       "    </tr>\n",
       "    <tr>\n",
       "      <th>date</th>\n",
       "      <th></th>\n",
       "    </tr>\n",
       "  </thead>\n",
       "  <tbody>\n",
       "    <tr>\n",
       "      <th>2014-03-01</th>\n",
       "      <td>0.619397</td>\n",
       "    </tr>\n",
       "    <tr>\n",
       "      <th>2014-03-02</th>\n",
       "      <td>0.526817</td>\n",
       "    </tr>\n",
       "    <tr>\n",
       "      <th>2014-03-03</th>\n",
       "      <td>16.570071</td>\n",
       "    </tr>\n",
       "    <tr>\n",
       "      <th>2014-03-04</th>\n",
       "      <td>1.718126</td>\n",
       "    </tr>\n",
       "    <tr>\n",
       "      <th>2014-03-05</th>\n",
       "      <td>28.216512</td>\n",
       "    </tr>\n",
       "    <tr>\n",
       "      <th>...</th>\n",
       "      <td>...</td>\n",
       "    </tr>\n",
       "    <tr>\n",
       "      <th>2017-12-27</th>\n",
       "      <td>0.000000</td>\n",
       "    </tr>\n",
       "    <tr>\n",
       "      <th>2017-12-28</th>\n",
       "      <td>6.014218</td>\n",
       "    </tr>\n",
       "    <tr>\n",
       "      <th>2017-12-29</th>\n",
       "      <td>79.895810</td>\n",
       "    </tr>\n",
       "    <tr>\n",
       "      <th>2017-12-30</th>\n",
       "      <td>10.955626</td>\n",
       "    </tr>\n",
       "    <tr>\n",
       "      <th>2017-12-31</th>\n",
       "      <td>0.028952</td>\n",
       "    </tr>\n",
       "  </tbody>\n",
       "</table>\n",
       "<p>1402 rows × 1 columns</p>\n",
       "</div>"
      ],
      "text/plain": [
       "            hourlyPrecipRate\n",
       "date                        \n",
       "2014-03-01          0.619397\n",
       "2014-03-02          0.526817\n",
       "2014-03-03         16.570071\n",
       "2014-03-04          1.718126\n",
       "2014-03-05         28.216512\n",
       "...                      ...\n",
       "2017-12-27          0.000000\n",
       "2017-12-28          6.014218\n",
       "2017-12-29         79.895810\n",
       "2017-12-30         10.955626\n",
       "2017-12-31          0.028952\n",
       "\n",
       "[1402 rows x 1 columns]"
      ]
     },
     "execution_count": 8,
     "metadata": {},
     "output_type": "execute_result"
    }
   ],
   "source": [
    "prec_daily"
   ]
  }
 ],
 "metadata": {
  "kernelspec": {
   "display_name": "Python 3 (ipykernel)",
   "language": "python",
   "name": "python3"
  },
  "language_info": {
   "codemirror_mode": {
    "name": "ipython",
    "version": 3
   },
   "file_extension": ".py",
   "mimetype": "text/x-python",
   "name": "python",
   "nbconvert_exporter": "python",
   "pygments_lexer": "ipython3",
   "version": "3.8.12"
  }
 },
 "nbformat": 4,
 "nbformat_minor": 5
}
