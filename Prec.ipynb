{
 "cells": [
  {
   "cell_type": "code",
   "execution_count": 1,
   "id": "4ea6126f",
   "metadata": {},
   "outputs": [],
   "source": [
    "import pandas as pd"
   ]
  },
  {
   "cell_type": "markdown",
   "id": "8e5aad8b",
   "metadata": {},
   "source": [
    "### Read snow and temperature data from MODIS"
   ]
  },
  {
   "cell_type": "code",
   "execution_count": 2,
   "id": "472d1bd9",
   "metadata": {},
   "outputs": [],
   "source": [
    "snow = pd.read_csv('data/MODIS/snow_cover.csv')\n",
    "temp = pd.read_csv('data/MODIS/land_surface_temp_K.csv')"
   ]
  },
  {
   "cell_type": "code",
   "execution_count": 3,
   "id": "e9967fbf",
   "metadata": {},
   "outputs": [],
   "source": [
    "# Get hourly dates as list\n",
    "modis_dates = snow['date'].to_list()\n",
    "modis_dates = [str(date) for date in modis_dates]"
   ]
  },
  {
   "cell_type": "code",
   "execution_count": 4,
   "id": "bb2584a6",
   "metadata": {},
   "outputs": [],
   "source": [
    "# Reformat dates and convert to datetime objects\n",
    "new_dates = []\n",
    "for date in modis_dates:\n",
    "    new_date = f'{date[0:4]}-{date[5:7]}-{date[8:10]}'\n",
    "    new_dates.append(new_date)\n",
    "new_dates   \n",
    "\n",
    "snow['date'] = new_dates\n",
    "snow['date']= pd.to_datetime(snow['date'])\n",
    "snow = snow.set_index('date')\n",
    "\n",
    "temp['date'] = new_dates\n",
    "temp['date']= pd.to_datetime(temp['date'])\n",
    "temp = temp.set_index('date')"
   ]
  },
  {
   "cell_type": "markdown",
   "id": "cf360923",
   "metadata": {},
   "source": [
    "### Read GPM precipitation data"
   ]
  },
  {
   "cell_type": "code",
   "execution_count": 5,
   "id": "cf5b26fc",
   "metadata": {},
   "outputs": [],
   "source": [
    "prec_hourly = pd.read_csv('data/MODIS/precipitation.csv')"
   ]
  },
  {
   "cell_type": "code",
   "execution_count": 6,
   "id": "51295455",
   "metadata": {},
   "outputs": [],
   "source": [
    "# Get hourly dates as list\n",
    "gpm_dates = prec_hourly['date'].to_list()\n",
    "gpm_dates = [str(date) for date in gpm_dates]"
   ]
  },
  {
   "cell_type": "code",
   "execution_count": 7,
   "id": "508e9947",
   "metadata": {},
   "outputs": [],
   "source": [
    "# Convert to date to datetime objects\n",
    "new_dates = []\n",
    "for date in gpm_dates:\n",
    "    new_date = f'{date[0:4]}-{date[4:6]}-{date[6:8]} {date[8:10]}:{date[10:12]}:00'\n",
    "    new_dates.append(new_date)\n",
    "prec_hourly['date'] = new_dates\n",
    "prec_hourly['date']= pd.to_datetime(prec_hourly['date'])\n",
    "prec_hourly = prec_hourly.set_index('date')"
   ]
  },
  {
   "cell_type": "code",
   "execution_count": 8,
   "id": "127699ab",
   "metadata": {},
   "outputs": [],
   "source": [
    "# Resample to daily intervals\n",
    "prec_daily = prec_hourly.resample('D').sum()"
   ]
  },
  {
   "cell_type": "code",
   "execution_count": 10,
   "id": "2da9d4d1",
   "metadata": {},
   "outputs": [],
   "source": [
    "satellite = pd.DataFrame()"
   ]
  },
  {
   "cell_type": "code",
   "execution_count": 11,
   "id": "91a377b6",
   "metadata": {},
   "outputs": [],
   "source": [
    "satellite['snow'] = snow['NDSI_Snow_Cover']\n",
    "satellite['temp'] = temp['LST_Day_1km']\n",
    "satellite['prec'] = prec_daily['precipitationCal']"
   ]
  },
  {
   "cell_type": "code",
   "execution_count": 12,
   "id": "5e7c7752",
   "metadata": {},
   "outputs": [
    {
     "data": {
      "text/html": [
       "<div>\n",
       "<style scoped>\n",
       "    .dataframe tbody tr th:only-of-type {\n",
       "        vertical-align: middle;\n",
       "    }\n",
       "\n",
       "    .dataframe tbody tr th {\n",
       "        vertical-align: top;\n",
       "    }\n",
       "\n",
       "    .dataframe thead th {\n",
       "        text-align: right;\n",
       "    }\n",
       "</style>\n",
       "<table border=\"1\" class=\"dataframe\">\n",
       "  <thead>\n",
       "    <tr style=\"text-align: right;\">\n",
       "      <th></th>\n",
       "      <th>snow</th>\n",
       "      <th>temp</th>\n",
       "      <th>prec</th>\n",
       "    </tr>\n",
       "    <tr>\n",
       "      <th>date</th>\n",
       "      <th></th>\n",
       "      <th></th>\n",
       "      <th></th>\n",
       "    </tr>\n",
       "  </thead>\n",
       "  <tbody>\n",
       "    <tr>\n",
       "      <th>2013-01-01</th>\n",
       "      <td>56.669666</td>\n",
       "      <td>13637.58888</td>\n",
       "      <td>25.122626</td>\n",
       "    </tr>\n",
       "    <tr>\n",
       "      <th>2013-01-02</th>\n",
       "      <td>52.070299</td>\n",
       "      <td>13726.96287</td>\n",
       "      <td>0.235298</td>\n",
       "    </tr>\n",
       "    <tr>\n",
       "      <th>2013-01-03</th>\n",
       "      <td>51.463661</td>\n",
       "      <td>13740.39250</td>\n",
       "      <td>0.010412</td>\n",
       "    </tr>\n",
       "    <tr>\n",
       "      <th>2013-01-04</th>\n",
       "      <td>65.101677</td>\n",
       "      <td>13486.85150</td>\n",
       "      <td>11.616317</td>\n",
       "    </tr>\n",
       "    <tr>\n",
       "      <th>2013-01-05</th>\n",
       "      <td>NaN</td>\n",
       "      <td>NaN</td>\n",
       "      <td>159.500557</td>\n",
       "    </tr>\n",
       "    <tr>\n",
       "      <th>...</th>\n",
       "      <td>...</td>\n",
       "      <td>...</td>\n",
       "      <td>...</td>\n",
       "    </tr>\n",
       "    <tr>\n",
       "      <th>2021-12-27</th>\n",
       "      <td>42.476682</td>\n",
       "      <td>12803.07253</td>\n",
       "      <td>45.353518</td>\n",
       "    </tr>\n",
       "    <tr>\n",
       "      <th>2021-12-28</th>\n",
       "      <td>NaN</td>\n",
       "      <td>NaN</td>\n",
       "      <td>96.939873</td>\n",
       "    </tr>\n",
       "    <tr>\n",
       "      <th>2021-12-29</th>\n",
       "      <td>61.435763</td>\n",
       "      <td>12905.66656</td>\n",
       "      <td>0.726814</td>\n",
       "    </tr>\n",
       "    <tr>\n",
       "      <th>2021-12-30</th>\n",
       "      <td>33.325747</td>\n",
       "      <td>12530.36780</td>\n",
       "      <td>45.821665</td>\n",
       "    </tr>\n",
       "    <tr>\n",
       "      <th>2021-12-31</th>\n",
       "      <td>58.336215</td>\n",
       "      <td>13041.96117</td>\n",
       "      <td>0.137453</td>\n",
       "    </tr>\n",
       "  </tbody>\n",
       "</table>\n",
       "<p>3278 rows × 3 columns</p>\n",
       "</div>"
      ],
      "text/plain": [
       "                 snow         temp        prec\n",
       "date                                          \n",
       "2013-01-01  56.669666  13637.58888   25.122626\n",
       "2013-01-02  52.070299  13726.96287    0.235298\n",
       "2013-01-03  51.463661  13740.39250    0.010412\n",
       "2013-01-04  65.101677  13486.85150   11.616317\n",
       "2013-01-05        NaN          NaN  159.500557\n",
       "...               ...          ...         ...\n",
       "2021-12-27  42.476682  12803.07253   45.353518\n",
       "2021-12-28        NaN          NaN   96.939873\n",
       "2021-12-29  61.435763  12905.66656    0.726814\n",
       "2021-12-30  33.325747  12530.36780   45.821665\n",
       "2021-12-31  58.336215  13041.96117    0.137453\n",
       "\n",
       "[3278 rows x 3 columns]"
      ]
     },
     "execution_count": 12,
     "metadata": {},
     "output_type": "execute_result"
    }
   ],
   "source": [
    "satellite"
   ]
  }
 ],
 "metadata": {
  "kernelspec": {
   "display_name": "Python 3 (ipykernel)",
   "language": "python",
   "name": "python3"
  },
  "language_info": {
   "codemirror_mode": {
    "name": "ipython",
    "version": 3
   },
   "file_extension": ".py",
   "mimetype": "text/x-python",
   "name": "python",
   "nbconvert_exporter": "python",
   "pygments_lexer": "ipython3",
   "version": "3.8.12"
  },
  "varInspector": {
   "cols": {
    "lenName": 16,
    "lenType": 16,
    "lenVar": 40
   },
   "kernels_config": {
    "python": {
     "delete_cmd_postfix": "",
     "delete_cmd_prefix": "del ",
     "library": "var_list.py",
     "varRefreshCmd": "print(var_dic_list())"
    },
    "r": {
     "delete_cmd_postfix": ") ",
     "delete_cmd_prefix": "rm(",
     "library": "var_list.r",
     "varRefreshCmd": "cat(var_dic_list()) "
    }
   },
   "types_to_exclude": [
    "module",
    "function",
    "builtin_function_or_method",
    "instance",
    "_Feature"
   ],
   "window_display": false
  }
 },
 "nbformat": 4,
 "nbformat_minor": 5
}
